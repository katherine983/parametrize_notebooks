{
 "cells": [
  {
   "cell_type": "code",
   "execution_count": 1,
   "id": "4a201f6a",
   "metadata": {
    "execution": {
     "iopub.execute_input": "2023-04-19T19:32:33.727380Z",
     "iopub.status.busy": "2023-04-19T19:32:33.726213Z",
     "iopub.status.idle": "2023-04-19T19:32:34.733192Z",
     "shell.execute_reply": "2023-04-19T19:32:34.732097Z"
    },
    "papermill": {
     "duration": 1.017582,
     "end_time": "2023-04-19T19:32:34.734122",
     "exception": false,
     "start_time": "2023-04-19T19:32:33.716540",
     "status": "completed"
    },
    "tags": []
   },
   "outputs": [],
   "source": [
    "import numpy as np\n",
    "import matplotlib.pyplot as plt\n",
    "from matplotlib.animation import FuncAnimation\n",
    "from IPython.display import display, HTML, Markdown\n",
    "from legacy_lcgs import *"
   ]
  },
  {
   "cell_type": "code",
   "execution_count": 2,
   "id": "75918cc6",
   "metadata": {
    "execution": {
     "iopub.execute_input": "2023-04-19T19:32:34.744629Z",
     "iopub.status.busy": "2023-04-19T19:32:34.744629Z",
     "iopub.status.idle": "2023-04-19T19:32:34.764009Z",
     "shell.execute_reply": "2023-04-19T19:32:34.763286Z"
    },
    "papermill": {
     "duration": 0.028683,
     "end_time": "2023-04-19T19:32:34.766126",
     "exception": false,
     "start_time": "2023-04-19T19:32:34.737443",
     "status": "completed"
    },
    "tags": [
     "parameters"
    ]
   },
   "outputs": [],
   "source": [
    "RNG = 'RANDU'\n",
    "SEED = 12345\n",
    "VERTICES = 4\n",
    "COORDS = 10000"
   ]
  },
  {
   "cell_type": "code",
   "execution_count": 3,
   "id": "cc27eca8",
   "metadata": {
    "execution": {
     "iopub.execute_input": "2023-04-19T19:32:34.775099Z",
     "iopub.status.busy": "2023-04-19T19:32:34.774097Z",
     "iopub.status.idle": "2023-04-19T19:32:34.780225Z",
     "shell.execute_reply": "2023-04-19T19:32:34.779221Z"
    },
    "papermill": {
     "duration": 0.017128,
     "end_time": "2023-04-19T19:32:34.783254",
     "exception": false,
     "start_time": "2023-04-19T19:32:34.766126",
     "status": "completed"
    },
    "tags": [
     "injected-parameters"
    ]
   },
   "outputs": [],
   "source": [
    "# Parameters\n",
    "RNG = \"PASCAL\"\n",
    "VERTICES = 8\n"
   ]
  },
  {
   "cell_type": "code",
   "execution_count": 4,
   "id": "6750b4c4",
   "metadata": {
    "execution": {
     "iopub.execute_input": "2023-04-19T19:32:34.793281Z",
     "iopub.status.busy": "2023-04-19T19:32:34.792280Z",
     "iopub.status.idle": "2023-04-19T19:32:34.816148Z",
     "shell.execute_reply": "2023-04-19T19:32:34.815146Z"
    },
    "papermill": {
     "duration": 0.033954,
     "end_time": "2023-04-19T19:32:34.819221",
     "exception": false,
     "start_time": "2023-04-19T19:32:34.785267",
     "status": "completed"
    },
    "scrolled": true,
    "slideshow": {
     "slide_type": "slide"
    },
    "tags": []
   },
   "outputs": [
    {
     "data": {
      "text/markdown": [
       "# Chaos Game Class Demo with PASCAL Random Number Generator\n",
       "By Katie Wuestney"
      ],
      "text/plain": [
       "<IPython.core.display.Markdown object>"
      ]
     },
     "execution_count": 4,
     "metadata": {},
     "output_type": "execute_result"
    }
   ],
   "source": [
    "Markdown(f\"\"\"# Chaos Game Class Demo with {RNG} Random Number Generator\n",
    "By Katie Wuestney\"\"\")"
   ]
  },
  {
   "cell_type": "code",
   "execution_count": 5,
   "id": "7510e5af",
   "metadata": {
    "execution": {
     "iopub.execute_input": "2023-04-19T19:32:34.828238Z",
     "iopub.status.busy": "2023-04-19T19:32:34.828238Z",
     "iopub.status.idle": "2023-04-19T19:32:34.849414Z",
     "shell.execute_reply": "2023-04-19T19:32:34.848227Z"
    },
    "papermill": {
     "duration": 0.033291,
     "end_time": "2023-04-19T19:32:34.852512",
     "exception": false,
     "start_time": "2023-04-19T19:32:34.819221",
     "status": "completed"
    },
    "tags": []
   },
   "outputs": [],
   "source": [
    "if RNG == 'default_rng':\n",
    "    rng = np.random.default_rng(SEED)\n",
    "elif RNG == 'LCG':\n",
    "    rng = LCG(SEED)\n",
    "elif RNG == 'Mersenne':\n",
    "    rng = np.random.Generator(np.random.MT19937(SEED))\n",
    "elif RNG == 'RANDU':\n",
    "    rng = RANDU(SEED)\n",
    "elif RNG == 'PASCAL':\n",
    "    rng = PASCAL(SEED)"
   ]
  },
  {
   "cell_type": "code",
   "execution_count": 6,
   "id": "1edc329f",
   "metadata": {
    "execution": {
     "iopub.execute_input": "2023-04-19T19:32:34.862841Z",
     "iopub.status.busy": "2023-04-19T19:32:34.852512Z",
     "iopub.status.idle": "2023-04-19T19:32:34.883112Z",
     "shell.execute_reply": "2023-04-19T19:32:34.882112Z"
    },
    "papermill": {
     "duration": 0.034864,
     "end_time": "2023-04-19T19:32:34.887376",
     "exception": false,
     "start_time": "2023-04-19T19:32:34.852512",
     "status": "completed"
    },
    "tags": []
   },
   "outputs": [],
   "source": [
    "def ngon_coords(verts):\n",
    "    radians=[]\n",
    "    for k in range(verts):\n",
    "        rad = (2*np.pi*k)/verts\n",
    "        radians.append(rad)\n",
    "    x_vals = np.cos(radians)\n",
    "    y_vals =np.sin(radians)\n",
    "    return x_vals, y_vals"
   ]
  },
  {
   "cell_type": "code",
   "execution_count": 7,
   "id": "21dc97aa",
   "metadata": {
    "execution": {
     "iopub.execute_input": "2023-04-19T19:32:34.903970Z",
     "iopub.status.busy": "2023-04-19T19:32:34.902967Z",
     "iopub.status.idle": "2023-04-19T19:32:34.965427Z",
     "shell.execute_reply": "2023-04-19T19:32:34.963874Z"
    },
    "papermill": {
     "duration": 0.074693,
     "end_time": "2023-04-19T19:32:34.968001",
     "exception": false,
     "start_time": "2023-04-19T19:32:34.893308",
     "status": "completed"
    },
    "tags": []
   },
   "outputs": [],
   "source": [
    "class chaos_game:\n",
    "    def __init__(self, verts, points, RNG=np.random.default_rng()):\n",
    "        #self.fig = fig\n",
    "        #self.ax = ax\n",
    "        self.verts = verts\n",
    "        self.points = points\n",
    "        #get vertex coordinates\n",
    "        x_vals, y_vals = ngon_coords(verts)\n",
    "        self.x_vals = x_vals\n",
    "        self.y_vals = y_vals\n",
    "        vert_coords = np.column_stack((x_vals, y_vals))\n",
    "        xmin = x_vals.min() - 0.2\n",
    "        xmax = x_vals.max() + 0.2\n",
    "        ymin = y_vals.min() - 0.2\n",
    "        ymax = y_vals.max() + 0.2\n",
    "        self.xlims = (xmin, xmax)\n",
    "        self.ylims = (ymin, ymax)\n",
    "        #c is starting coordinate\n",
    "        c = np.array([0.0, 0.25])\n",
    "\n",
    "        #initiate figure instance\n",
    "        self.fig, self.ax = plt.subplots(figsize=(4, 4))\n",
    "        self.ax.set(xlim=self.xlims, ylim=self.ylims)\n",
    "        rng = RNG\n",
    "        self.randints = rng.integers(0, verts, points)\n",
    "#         if RNG == 'default_rng':\n",
    "#             rng = np.random.default_rng()\n",
    "#             self.randints = rng.integers(0, verts, points)\n",
    "#         elif RNG == 'LCG':\n",
    "#             rng = LCG()\n",
    "#             self.randints = list(rng.ints(0, verts, points))\n",
    "#         elif RNG == 'Mersenne':\n",
    "#             rng = np.random.Generator(np.random.MT19937())\n",
    "#             self.randints = rng.integers(0, verts, points)\n",
    "#         elif RNG == 'RANDU':\n",
    "#             rng = RANDU(33)\n",
    "#             self.randints = list(rng.ints(0, verts, points))\n",
    "#         elif RNG == 'PASCAL':\n",
    "#             rng = PASCAL(33)\n",
    "#             self.randints = list(rng.ints(0, verts, points))\n",
    "        coords = [c]\n",
    "        #firstpts = 10\n",
    "        for i in self.randints:\n",
    "            coords.append((coords[-1] + vert_coords[i])/2)\n",
    "        self.coords = coords[1:]\n",
    "        \n",
    "    def plot(self):\n",
    "        x, y = zip(*self.coords)\n",
    "        self.ax.scatter(self.x_vals, self.y_vals, c='b', label='vertices')\n",
    "        self.ax.legend()\n",
    "        for i, xy in enumerate(zip(self.x_vals, self.y_vals)):\n",
    "            self.ax.annotate(f'{i}', xy, xycoords='data', xytext=(4,4), textcoords='offset points')\n",
    "        self.ax.scatter(x, y, s=1, c='g')\n",
    "        return\n",
    "        \n",
    "    def savefig(self, filename, **kwargs):\n",
    "        self.fig.savefig(filename, **kwargs)\n",
    "        return\n",
    "\n",
    "    def init_frame(self):\n",
    "        self.ax.cla()\n",
    "        self.ax.set(xlim=self.xlims, ylim=self.ylims)\n",
    "        self.ax.scatter(x=0, y=0.25, s=1, c='r', label='inital point')\n",
    "        self.ax.scatter(self.x_vals, self.y_vals, c='b', label='vertices')\n",
    "        self.ax.legend()\n",
    "        for i, xy in enumerate(zip(self.x_vals, self.y_vals)):\n",
    "            self.ax.annotate(f'{i}', xy, xycoords='data', xytext=(4,4), textcoords='offset points')\n",
    "        return\n",
    "    \n",
    "    def animation(self, i):\n",
    "        i_from = i * self.chunks\n",
    "        # are we on the last frame?\n",
    "        if i_from + self.chunks > len(self.coords) - 1:\n",
    "            i_to = len(self.coords) - 1\n",
    "        else:\n",
    "            i_to = i_from + self.chunks\n",
    "        rows = self.coords[i_from:i_to]\n",
    "        x, y = zip(*rows)\n",
    "        self.ax.scatter(x, y, s=1, c='g')\n",
    "        return\n",
    "    \n",
    "    def animate(self, chunks=20):\n",
    "        self.chunks = chunks\n",
    "        self.frame_chunks = self.points // self.chunks\n",
    "        self.ani = FuncAnimation(self.fig, self.animation, frames=self.frame_chunks, init_func=self.init_frame, interval=5, repeat=True, blit=True)\n",
    "        plt.show()\n",
    "        \n",
    "    def movie(self):\n",
    "        movie1 = self.ani.to_jshtml()\n",
    "        return movie1\n",
    "    \n",
    "    def pause(self):\n",
    "        self.ani.pause()\n",
    "        return"
   ]
  },
  {
   "cell_type": "code",
   "execution_count": 8,
   "id": "24d15b3d",
   "metadata": {
    "execution": {
     "iopub.execute_input": "2023-04-19T19:32:34.986274Z",
     "iopub.status.busy": "2023-04-19T19:32:34.985274Z",
     "iopub.status.idle": "2023-04-19T19:32:35.393589Z",
     "shell.execute_reply": "2023-04-19T19:32:35.393589Z"
    },
    "papermill": {
     "duration": 0.428587,
     "end_time": "2023-04-19T19:32:35.396588",
     "exception": false,
     "start_time": "2023-04-19T19:32:34.968001",
     "status": "completed"
    },
    "scrolled": true,
    "tags": []
   },
   "outputs": [
    {
     "data": {
      "image/png": "[encoded data removed]",
      "text/plain": [
       "<Figure size 288x288 with 1 Axes>"
      ]
     },
     "metadata": {
      "needs_background": "light"
     },
     "output_type": "display_data"
    }
   ],
   "source": [
    "cg = chaos_game(VERTICES, COORDS)\n",
    "cg.plot()"
   ]
  },
  {
   "cell_type": "code",
   "execution_count": 9,
   "id": "6d9697d3",
   "metadata": {
    "execution": {
     "iopub.execute_input": "2023-04-19T19:32:35.410229Z",
     "iopub.status.busy": "2023-04-19T19:32:35.410229Z",
     "iopub.status.idle": "2023-04-19T19:32:35.435576Z",
     "shell.execute_reply": "2023-04-19T19:32:35.434384Z"
    },
    "papermill": {
     "duration": 0.032493,
     "end_time": "2023-04-19T19:32:35.437717",
     "exception": false,
     "start_time": "2023-04-19T19:32:35.405224",
     "status": "completed"
    },
    "tags": []
   },
   "outputs": [],
   "source": [
    "#cg.animate()"
   ]
  },
  {
   "cell_type": "code",
   "execution_count": 10,
   "id": "e5a911b1",
   "metadata": {
    "execution": {
     "iopub.execute_input": "2023-04-19T19:32:35.448539Z",
     "iopub.status.busy": "2023-04-19T19:32:35.448539Z",
     "iopub.status.idle": "2023-04-19T19:32:35.477526Z",
     "shell.execute_reply": "2023-04-19T19:32:35.476500Z"
    },
    "papermill": {
     "duration": 0.04338,
     "end_time": "2023-04-19T19:32:35.481097",
     "exception": false,
     "start_time": "2023-04-19T19:32:35.437717",
     "status": "completed"
    },
    "scrolled": true,
    "tags": []
   },
   "outputs": [],
   "source": [
    "#papermill_description=ENCODING_ANIMATION\n",
    "#mv = cg.movie()\n",
    "#HTML(mv)"
   ]
  }
 ],
 "metadata": {
  "celltoolbar": "Tags",
  "kernelspec": {
   "display_name": "myenv",
   "language": "python",
   "name": "myenv"
  },
  "language_info": {
   "codemirror_mode": {
    "name": "ipython",
    "version": 3
   },
   "file_extension": ".py",
   "mimetype": "text/x-python",
   "name": "python",
   "nbconvert_exporter": "python",
   "pygments_lexer": "ipython3",
   "version": "3.9.12"
  },
  "papermill": {
   "default_parameters": {},
   "duration": 5.231574,
   "end_time": "2023-04-19T19:32:35.829309",
   "environment_variables": {},
   "exception": null,
   "input_path": "chaos_game_template.ipynb",
   "output_path": "chaos_game_PASCAL.ipynb",
   "parameters": {
    "RNG": "PASCAL",
    "VERTICES": 8
   },
   "start_time": "2023-04-19T19:32:30.597735",
   "version": "2.3.4"
  }
 },
 "nbformat": 4,
 "nbformat_minor": 5
}