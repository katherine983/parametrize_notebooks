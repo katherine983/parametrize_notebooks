{
 "cells": [
  {
   "cell_type": "code",
   "execution_count": 1,
   "id": "4a201f6a",
   "metadata": {
    "execution": {
     "iopub.execute_input": "2023-04-19T22:02:43.527293Z",
     "iopub.status.busy": "2023-04-19T22:02:43.526661Z",
     "iopub.status.idle": "2023-04-19T22:02:44.441421Z",
     "shell.execute_reply": "2023-04-19T22:02:44.440516Z"
    },
    "papermill": {
     "duration": 0.922162,
     "end_time": "2023-04-19T22:02:44.443457",
     "exception": false,
     "start_time": "2023-04-19T22:02:43.521295",
     "status": "completed"
    },
    "tags": []
   },
   "outputs": [],
   "source": [
    "import numpy as np\n",
    "import matplotlib.pyplot as plt\n",
    "from matplotlib.animation import FuncAnimation\n",
    "from IPython.display import display, HTML, Markdown\n",
    "from legacy_lcgs import *"
   ]
  },
  {
   "cell_type": "code",
   "execution_count": 2,
   "id": "691a8d9e",
   "metadata": {
    "execution": {
     "iopub.execute_input": "2023-04-19T22:02:44.452458Z",
     "iopub.status.busy": "2023-04-19T22:02:44.452458Z",
     "iopub.status.idle": "2023-04-19T22:02:44.471419Z",
     "shell.execute_reply": "2023-04-19T22:02:44.470576Z"
    },
    "papermill": {
     "duration": 0.025995,
     "end_time": "2023-04-19T22:02:44.473417",
     "exception": false,
     "start_time": "2023-04-19T22:02:44.447422",
     "status": "completed"
    },
    "tags": [
     "parameters"
    ]
   },
   "outputs": [],
   "source": [
    "RNG = 'default_rng'\n",
    "SEED = 12345\n",
    "VERTICES = 4\n",
    "COORDS = 10000"
   ]
  },
  {
   "cell_type": "code",
   "execution_count": 3,
   "id": "3021e4b9",
   "metadata": {
    "execution": {
     "iopub.execute_input": "2023-04-19T22:02:44.484422Z",
     "iopub.status.busy": "2023-04-19T22:02:44.483435Z",
     "iopub.status.idle": "2023-04-19T22:02:44.504411Z",
     "shell.execute_reply": "2023-04-19T22:02:44.501569Z"
    },
    "papermill": {
     "duration": 0.029821,
     "end_time": "2023-04-19T22:02:44.508286",
     "exception": false,
     "start_time": "2023-04-19T22:02:44.478465",
     "status": "completed"
    },
    "tags": [
     "injected-parameters"
    ]
   },
   "outputs": [],
   "source": [
    "# Parameters\n",
    "RNG = \"Mersenne\"\n"
   ]
  },
  {
   "cell_type": "code",
   "execution_count": 4,
   "id": "dd0e49d1",
   "metadata": {
    "execution": {
     "iopub.execute_input": "2023-04-19T22:02:44.519275Z",
     "iopub.status.busy": "2023-04-19T22:02:44.518236Z",
     "iopub.status.idle": "2023-04-19T22:02:44.535239Z",
     "shell.execute_reply": "2023-04-19T22:02:44.533243Z"
    },
    "papermill": {
     "duration": 0.025411,
     "end_time": "2023-04-19T22:02:44.538648",
     "exception": false,
     "start_time": "2023-04-19T22:02:44.513237",
     "status": "completed"
    },
    "scrolled": false,
    "slideshow": {
     "slide_type": "slide"
    },
    "tags": [
     "remove_input"
    ]
   },
   "outputs": [
    {
     "data": {
      "text/markdown": [
       "# Chaos Game Class Demo with Mersenne Random Number Generator\n",
       "By Katie Wuestney"
      ],
      "text/plain": [
       "<IPython.core.display.Markdown object>"
      ]
     },
     "execution_count": 4,
     "metadata": {},
     "output_type": "execute_result"
    }
   ],
   "source": [
    "Markdown(f\"\"\"# Chaos Game Class Demo with {RNG} Random Number Generator\n",
    "By Katie Wuestney\"\"\")"
   ]
  },
  {
   "cell_type": "code",
   "execution_count": 5,
   "id": "83bf8b64",
   "metadata": {
    "execution": {
     "iopub.execute_input": "2023-04-19T22:02:44.552548Z",
     "iopub.status.busy": "2023-04-19T22:02:44.552548Z",
     "iopub.status.idle": "2023-04-19T22:02:44.565446Z",
     "shell.execute_reply": "2023-04-19T22:02:44.564453Z"
    },
    "papermill": {
     "duration": 0.022999,
     "end_time": "2023-04-19T22:02:44.568447",
     "exception": false,
     "start_time": "2023-04-19T22:02:44.545448",
     "status": "completed"
    },
    "tags": []
   },
   "outputs": [],
   "source": [
    "if RNG == 'default_rng':\n",
    "    rng = np.random.default_rng(SEED)\n",
    "elif RNG == 'LCG':\n",
    "    #one of the worst set of LCG params\n",
    "    rng = LCG(SEED, **{'a' : 950706376, 'b' : 0, 'm' : (2**31 - 1)})\n",
    "elif RNG == 'Mersenne':\n",
    "    rng = np.random.Generator(np.random.MT19937(SEED))\n",
    "elif RNG == 'RANDU':\n",
    "    rng = RANDU(SEED)\n",
    "elif RNG == 'PASCAL':\n",
    "    rng = PASCAL(SEED)\n",
    "elif RNG == 'ANSI_C':\n",
    "    rng = ANSI_C(SEED)"
   ]
  },
  {
   "cell_type": "code",
   "execution_count": 6,
   "id": "60cc3669",
   "metadata": {
    "execution": {
     "iopub.execute_input": "2023-04-19T22:02:44.579165Z",
     "iopub.status.busy": "2023-04-19T22:02:44.579165Z",
     "iopub.status.idle": "2023-04-19T22:02:44.596101Z",
     "shell.execute_reply": "2023-04-19T22:02:44.595103Z"
    },
    "papermill": {
     "duration": 0.023361,
     "end_time": "2023-04-19T22:02:44.597458",
     "exception": false,
     "start_time": "2023-04-19T22:02:44.574097",
     "status": "completed"
    },
    "tags": []
   },
   "outputs": [],
   "source": [
    "# for i in range(5):\n",
    "#     print(rng())"
   ]
  },
  {
   "cell_type": "markdown",
   "id": "4138d235",
   "metadata": {
    "papermill": {
     "duration": 0.003093,
     "end_time": "2023-04-19T22:02:44.603218",
     "exception": false,
     "start_time": "2023-04-19T22:02:44.600125",
     "status": "completed"
    },
    "tags": []
   },
   "source": [
    "1406932606\n",
    "654583775\n",
    "1449466924\n",
    "229283573"
   ]
  },
  {
   "cell_type": "code",
   "execution_count": 7,
   "id": "1edc329f",
   "metadata": {
    "execution": {
     "iopub.execute_input": "2023-04-19T22:02:44.609422Z",
     "iopub.status.busy": "2023-04-19T22:02:44.609422Z",
     "iopub.status.idle": "2023-04-19T22:02:44.627790Z",
     "shell.execute_reply": "2023-04-19T22:02:44.626031Z"
    },
    "papermill": {
     "duration": 0.024562,
     "end_time": "2023-04-19T22:02:44.629823",
     "exception": false,
     "start_time": "2023-04-19T22:02:44.605261",
     "status": "completed"
    },
    "tags": []
   },
   "outputs": [],
   "source": [
    "def ngon_coords(verts):\n",
    "    radians=[]\n",
    "    for k in range(verts):\n",
    "        rad = (2*np.pi*k)/verts\n",
    "        radians.append(rad)\n",
    "    x_vals = np.cos(radians)\n",
    "    y_vals =np.sin(radians)\n",
    "    return x_vals, y_vals"
   ]
  },
  {
   "cell_type": "code",
   "execution_count": 8,
   "id": "21dc97aa",
   "metadata": {
    "execution": {
     "iopub.execute_input": "2023-04-19T22:02:44.639389Z",
     "iopub.status.busy": "2023-04-19T22:02:44.638394Z",
     "iopub.status.idle": "2023-04-19T22:02:44.673909Z",
     "shell.execute_reply": "2023-04-19T22:02:44.672909Z"
    },
    "papermill": {
     "duration": 0.043539,
     "end_time": "2023-04-19T22:02:44.676907",
     "exception": false,
     "start_time": "2023-04-19T22:02:44.633368",
     "status": "completed"
    },
    "tags": []
   },
   "outputs": [],
   "source": [
    "class chaos_game:\n",
    "    def __init__(self, verts, points, RNG=np.random.default_rng()):\n",
    "        #self.fig = fig\n",
    "        #self.ax = ax\n",
    "        self.verts = verts\n",
    "        self.points = points\n",
    "        #get vertex coordinates\n",
    "        x_vals, y_vals = ngon_coords(verts)\n",
    "        self.x_vals = x_vals\n",
    "        self.y_vals = y_vals\n",
    "        vert_coords = np.column_stack((x_vals, y_vals))\n",
    "        #print(vert_coords)\n",
    "        xmin = x_vals.min() - 0.2\n",
    "        xmax = x_vals.max() + 0.2\n",
    "        ymin = y_vals.min() - 0.2\n",
    "        ymax = y_vals.max() + 0.2\n",
    "        self.xlims = (xmin, xmax)\n",
    "        self.ylims = (ymin, ymax)\n",
    "        #c is starting coordinate\n",
    "        c = np.array([0.0, 0.25])\n",
    "\n",
    "        #initiate figure instance\n",
    "        self.fig, self.ax = plt.subplots(figsize=(4, 4))\n",
    "        self.ax.set(xlim=self.xlims, ylim=self.ylims)\n",
    "        rng = RNG\n",
    "        self.randints = list(rng.integers(0, verts, points))\n",
    "        #print(self.randints)\n",
    "#         if RNG == 'default_rng':\n",
    "#             rng = np.random.default_rng()\n",
    "#             self.randints = rng.integers(0, verts, points)\n",
    "#         elif RNG == 'LCG':\n",
    "#             rng = LCG()\n",
    "#             self.randints = list(rng.ints(0, verts, points))\n",
    "#         elif RNG == 'Mersenne':\n",
    "#             rng = np.random.Generator(np.random.MT19937())\n",
    "#             self.randints = rng.integers(0, verts, points)\n",
    "#         elif RNG == 'RANDU':\n",
    "#             rng = RANDU(33)\n",
    "#             self.randints = list(rng.ints(0, verts, points))\n",
    "#         elif RNG == 'PASCAL':\n",
    "#             rng = PASCAL(33)\n",
    "#             self.randints = list(rng.ints(0, verts, points))\n",
    "        coords = [c]\n",
    "        #firstpts = 10\n",
    "        for i in self.randints:\n",
    "            coords.append((coords[-1] + vert_coords[i])/2)\n",
    "        self.coords = coords[1:]\n",
    "        \n",
    "    def plot(self):\n",
    "        x, y = zip(*self.coords)\n",
    "        self.ax.scatter(self.x_vals, self.y_vals, c='b', label='vertices')\n",
    "        self.ax.legend()\n",
    "        for i, xy in enumerate(zip(self.x_vals, self.y_vals)):\n",
    "            self.ax.annotate(f'{i}', xy, xycoords='data', xytext=(4,4), textcoords='offset points')\n",
    "        self.ax.scatter(x, y, s=1, c='g')\n",
    "        return\n",
    "        \n",
    "    def savefig(self, filename, **kwargs):\n",
    "        self.fig.savefig(filename, **kwargs)\n",
    "        return\n",
    "\n",
    "    def init_frame(self):\n",
    "        self.ax.cla()\n",
    "        self.ax.set(xlim=self.xlims, ylim=self.ylims)\n",
    "        self.ax.scatter(x=0, y=0.25, s=1, c='r', label='inital point')\n",
    "        self.ax.scatter(self.x_vals, self.y_vals, c='b', label='vertices')\n",
    "        self.ax.legend()\n",
    "        for i, xy in enumerate(zip(self.x_vals, self.y_vals)):\n",
    "            self.ax.annotate(f'{i}', xy, xycoords='data', xytext=(4,4), textcoords='offset points')\n",
    "        return\n",
    "    \n",
    "    def animation(self, i):\n",
    "        i_from = i * self.chunks\n",
    "        # are we on the last frame?\n",
    "        if i_from + self.chunks > len(self.coords) - 1:\n",
    "            i_to = len(self.coords) - 1\n",
    "        else:\n",
    "            i_to = i_from + self.chunks\n",
    "        rows = self.coords[i_from:i_to]\n",
    "        x, y = zip(*rows)\n",
    "        self.ax.scatter(x, y, s=1, c='g')\n",
    "        return\n",
    "    \n",
    "    def animate(self, chunks=20):\n",
    "        self.chunks = chunks\n",
    "        self.frame_chunks = self.points // self.chunks\n",
    "        self.ani = FuncAnimation(self.fig, self.animation, frames=self.frame_chunks, init_func=self.init_frame, interval=5, repeat=True, blit=True)\n",
    "        plt.show()\n",
    "        \n",
    "    def movie(self):\n",
    "        movie1 = self.ani.to_jshtml()\n",
    "        return movie1\n",
    "    \n",
    "    def pause(self):\n",
    "        self.ani.pause()\n",
    "        return"
   ]
  },
  {
   "cell_type": "code",
   "execution_count": 9,
   "id": "24d15b3d",
   "metadata": {
    "execution": {
     "iopub.execute_input": "2023-04-19T22:02:44.686912Z",
     "iopub.status.busy": "2023-04-19T22:02:44.686912Z",
     "iopub.status.idle": "2023-04-19T22:02:45.033275Z",
     "shell.execute_reply": "2023-04-19T22:02:45.032364Z"
    },
    "papermill": {
     "duration": 0.353804,
     "end_time": "2023-04-19T22:02:45.035710",
     "exception": false,
     "start_time": "2023-04-19T22:02:44.681906",
     "status": "completed"
    },
    "scrolled": true,
    "tags": []
   },
   "outputs": [
    {
     "data": {
      "image/png": "[encoded data removed]",
      "text/plain": [
       "<Figure size 288x288 with 1 Axes>"
      ]
     },
     "metadata": {
      "needs_background": "light"
     },
     "output_type": "display_data"
    }
   ],
   "source": [
    "cg = chaos_game(VERTICES, COORDS, RNG=rng)\n",
    "cg.plot()"
   ]
  },
  {
   "cell_type": "code",
   "execution_count": 10,
   "id": "437b030c",
   "metadata": {
    "execution": {
     "iopub.execute_input": "2023-04-19T22:02:45.045330Z",
     "iopub.status.busy": "2023-04-19T22:02:45.045330Z",
     "iopub.status.idle": "2023-04-19T22:02:45.063265Z",
     "shell.execute_reply": "2023-04-19T22:02:45.063265Z"
    },
    "papermill": {
     "duration": 0.026116,
     "end_time": "2023-04-19T22:02:45.066419",
     "exception": false,
     "start_time": "2023-04-19T22:02:45.040303",
     "status": "completed"
    },
    "tags": []
   },
   "outputs": [],
   "source": [
    "#cg.animate()"
   ]
  },
  {
   "cell_type": "code",
   "execution_count": 11,
   "id": "e5a911b1",
   "metadata": {
    "execution": {
     "iopub.execute_input": "2023-04-19T22:02:45.077319Z",
     "iopub.status.busy": "2023-04-19T22:02:45.077319Z",
     "iopub.status.idle": "2023-04-19T22:02:45.096367Z",
     "shell.execute_reply": "2023-04-19T22:02:45.094525Z"
    },
    "papermill": {
     "duration": 0.026748,
     "end_time": "2023-04-19T22:02:45.098136",
     "exception": false,
     "start_time": "2023-04-19T22:02:45.071388",
     "status": "completed"
    },
    "scrolled": true,
    "tags": []
   },
   "outputs": [],
   "source": [
    "#papermill_description=ENCODING_ANIMATION\n",
    "#mv = cg.movie()\n",
    "#HTML(mv)"
   ]
  }
 ],
 "metadata": {
  "celltoolbar": "Tags",
  "kernelspec": {
   "display_name": "myenv",
   "language": "python",
   "name": "myenv"
  },
  "language_info": {
   "codemirror_mode": {
    "name": "ipython",
    "version": 3
   },
   "file_extension": ".py",
   "mimetype": "text/x-python",
   "name": "python",
   "nbconvert_exporter": "python",
   "pygments_lexer": "ipython3",
   "version": "3.9.12"
  },
  "papermill": {
   "default_parameters": {},
   "duration": 4.816203,
   "end_time": "2023-04-19T22:02:45.437376",
   "environment_variables": {},
   "exception": null,
   "input_path": "chaos_game_template.ipynb",
   "output_path": "chaos_game_Mersenne.ipynb",
   "parameters": {
    "RNG": "Mersenne"
   },
   "start_time": "2023-04-19T22:02:40.621173",
   "version": "2.3.4"
  }
 },
 "nbformat": 4,
 "nbformat_minor": 5
}